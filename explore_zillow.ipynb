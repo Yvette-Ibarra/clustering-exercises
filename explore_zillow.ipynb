{
 "cells": [
  {
   "cell_type": "markdown",
   "id": "4916aa8b",
   "metadata": {},
   "source": [
    "# $Explore$ $Zillow$"
   ]
  },
  {
   "cell_type": "code",
   "execution_count": 1,
   "id": "1149e55d",
   "metadata": {},
   "outputs": [],
   "source": [
    "import numpy as np\n",
    "import pandas as pd\n",
    "import seaborn as sns\n",
    "\n",
    "import matplotlib.pyplot as plt\n",
    "from sklearn.model_selection import train_test_split\n",
    "\n",
    "import scipy.stats as stats\n",
    "\n",
    "\n",
    "import wrangle_zillow as w\n",
    "import env"
   ]
  },
  {
   "cell_type": "markdown",
   "id": "c6e792a0",
   "metadata": {},
   "source": [
    "### 1. Ask at least 5 questions about the data, keeping in mind that your target variable is logerror. e.g. Is logerror significantly different for properties in LA County vs Orange County vs Ventura County?\n",
    "### 2. Answer those questions through a mix of statistical tests and visualizations."
   ]
  },
  {
   "cell_type": "code",
   "execution_count": 2,
   "id": "21388585",
   "metadata": {
    "scrolled": true
   },
   "outputs": [
    {
     "data": {
      "text/html": [
       "<div>\n",
       "<style scoped>\n",
       "    .dataframe tbody tr th:only-of-type {\n",
       "        vertical-align: middle;\n",
       "    }\n",
       "\n",
       "    .dataframe tbody tr th {\n",
       "        vertical-align: top;\n",
       "    }\n",
       "\n",
       "    .dataframe thead th {\n",
       "        text-align: right;\n",
       "    }\n",
       "</style>\n",
       "<table border=\"1\" class=\"dataframe\">\n",
       "  <thead>\n",
       "    <tr style=\"text-align: right;\">\n",
       "      <th></th>\n",
       "      <th>id</th>\n",
       "      <th>parcelid</th>\n",
       "      <th>airconditioningtypeid</th>\n",
       "      <th>architecturalstyletypeid</th>\n",
       "      <th>basementsqft</th>\n",
       "      <th>bathroomcnt</th>\n",
       "      <th>bedroomcnt</th>\n",
       "      <th>buildingclasstypeid</th>\n",
       "      <th>buildingqualitytypeid</th>\n",
       "      <th>calculatedbathnbr</th>\n",
       "      <th>...</th>\n",
       "      <th>censustractandblock</th>\n",
       "      <th>log_error</th>\n",
       "      <th>transaction_date</th>\n",
       "      <th>aircondition</th>\n",
       "      <th>architectural_style</th>\n",
       "      <th>bulding_class</th>\n",
       "      <th>heat_systems</th>\n",
       "      <th>land_use</th>\n",
       "      <th>story</th>\n",
       "      <th>construction_type</th>\n",
       "    </tr>\n",
       "  </thead>\n",
       "  <tbody>\n",
       "    <tr>\n",
       "      <th>0</th>\n",
       "      <td>1727539</td>\n",
       "      <td>14297519</td>\n",
       "      <td>NaN</td>\n",
       "      <td>NaN</td>\n",
       "      <td>NaN</td>\n",
       "      <td>3.5</td>\n",
       "      <td>4.0</td>\n",
       "      <td>NaN</td>\n",
       "      <td>NaN</td>\n",
       "      <td>3.5</td>\n",
       "      <td>...</td>\n",
       "      <td>6.059063e+13</td>\n",
       "      <td>0.025595</td>\n",
       "      <td>2017-01-01</td>\n",
       "      <td>NaN</td>\n",
       "      <td>NaN</td>\n",
       "      <td>NaN</td>\n",
       "      <td>NaN</td>\n",
       "      <td>Single Family Residential</td>\n",
       "      <td>NaN</td>\n",
       "      <td>NaN</td>\n",
       "    </tr>\n",
       "    <tr>\n",
       "      <th>1</th>\n",
       "      <td>1387261</td>\n",
       "      <td>17052889</td>\n",
       "      <td>NaN</td>\n",
       "      <td>NaN</td>\n",
       "      <td>NaN</td>\n",
       "      <td>1.0</td>\n",
       "      <td>2.0</td>\n",
       "      <td>NaN</td>\n",
       "      <td>NaN</td>\n",
       "      <td>1.0</td>\n",
       "      <td>...</td>\n",
       "      <td>6.111001e+13</td>\n",
       "      <td>0.055619</td>\n",
       "      <td>2017-01-01</td>\n",
       "      <td>NaN</td>\n",
       "      <td>NaN</td>\n",
       "      <td>NaN</td>\n",
       "      <td>NaN</td>\n",
       "      <td>Single Family Residential</td>\n",
       "      <td>NaN</td>\n",
       "      <td>NaN</td>\n",
       "    </tr>\n",
       "    <tr>\n",
       "      <th>2</th>\n",
       "      <td>11677</td>\n",
       "      <td>14186244</td>\n",
       "      <td>NaN</td>\n",
       "      <td>NaN</td>\n",
       "      <td>NaN</td>\n",
       "      <td>2.0</td>\n",
       "      <td>3.0</td>\n",
       "      <td>NaN</td>\n",
       "      <td>NaN</td>\n",
       "      <td>2.0</td>\n",
       "      <td>...</td>\n",
       "      <td>6.059022e+13</td>\n",
       "      <td>0.005383</td>\n",
       "      <td>2017-01-01</td>\n",
       "      <td>NaN</td>\n",
       "      <td>NaN</td>\n",
       "      <td>NaN</td>\n",
       "      <td>NaN</td>\n",
       "      <td>Single Family Residential</td>\n",
       "      <td>NaN</td>\n",
       "      <td>NaN</td>\n",
       "    </tr>\n",
       "    <tr>\n",
       "      <th>3</th>\n",
       "      <td>2288172</td>\n",
       "      <td>12177905</td>\n",
       "      <td>NaN</td>\n",
       "      <td>NaN</td>\n",
       "      <td>NaN</td>\n",
       "      <td>3.0</td>\n",
       "      <td>4.0</td>\n",
       "      <td>NaN</td>\n",
       "      <td>8.0</td>\n",
       "      <td>3.0</td>\n",
       "      <td>...</td>\n",
       "      <td>6.037300e+13</td>\n",
       "      <td>-0.103410</td>\n",
       "      <td>2017-01-01</td>\n",
       "      <td>NaN</td>\n",
       "      <td>NaN</td>\n",
       "      <td>NaN</td>\n",
       "      <td>Central</td>\n",
       "      <td>Single Family Residential</td>\n",
       "      <td>NaN</td>\n",
       "      <td>NaN</td>\n",
       "    </tr>\n",
       "    <tr>\n",
       "      <th>4</th>\n",
       "      <td>781532</td>\n",
       "      <td>12095076</td>\n",
       "      <td>1.0</td>\n",
       "      <td>NaN</td>\n",
       "      <td>NaN</td>\n",
       "      <td>3.0</td>\n",
       "      <td>4.0</td>\n",
       "      <td>NaN</td>\n",
       "      <td>9.0</td>\n",
       "      <td>3.0</td>\n",
       "      <td>...</td>\n",
       "      <td>6.037461e+13</td>\n",
       "      <td>-0.001011</td>\n",
       "      <td>2017-01-01</td>\n",
       "      <td>Central</td>\n",
       "      <td>NaN</td>\n",
       "      <td>NaN</td>\n",
       "      <td>Central</td>\n",
       "      <td>Single Family Residential</td>\n",
       "      <td>NaN</td>\n",
       "      <td>NaN</td>\n",
       "    </tr>\n",
       "  </tbody>\n",
       "</table>\n",
       "<p>5 rows × 68 columns</p>\n",
       "</div>"
      ],
      "text/plain": [
       "        id  parcelid  airconditioningtypeid  architecturalstyletypeid  \\\n",
       "0  1727539  14297519                    NaN                       NaN   \n",
       "1  1387261  17052889                    NaN                       NaN   \n",
       "2    11677  14186244                    NaN                       NaN   \n",
       "3  2288172  12177905                    NaN                       NaN   \n",
       "4   781532  12095076                    1.0                       NaN   \n",
       "\n",
       "   basementsqft  bathroomcnt  bedroomcnt  buildingclasstypeid  \\\n",
       "0           NaN          3.5         4.0                  NaN   \n",
       "1           NaN          1.0         2.0                  NaN   \n",
       "2           NaN          2.0         3.0                  NaN   \n",
       "3           NaN          3.0         4.0                  NaN   \n",
       "4           NaN          3.0         4.0                  NaN   \n",
       "\n",
       "   buildingqualitytypeid  calculatedbathnbr  ...  censustractandblock  \\\n",
       "0                    NaN                3.5  ...         6.059063e+13   \n",
       "1                    NaN                1.0  ...         6.111001e+13   \n",
       "2                    NaN                2.0  ...         6.059022e+13   \n",
       "3                    8.0                3.0  ...         6.037300e+13   \n",
       "4                    9.0                3.0  ...         6.037461e+13   \n",
       "\n",
       "   log_error  transaction_date  aircondition  architectural_style  \\\n",
       "0   0.025595        2017-01-01           NaN                  NaN   \n",
       "1   0.055619        2017-01-01           NaN                  NaN   \n",
       "2   0.005383        2017-01-01           NaN                  NaN   \n",
       "3  -0.103410        2017-01-01           NaN                  NaN   \n",
       "4  -0.001011        2017-01-01       Central                  NaN   \n",
       "\n",
       "   bulding_class  heat_systems                   land_use  story  \\\n",
       "0            NaN           NaN  Single Family Residential    NaN   \n",
       "1            NaN           NaN  Single Family Residential    NaN   \n",
       "2            NaN           NaN  Single Family Residential    NaN   \n",
       "3            NaN       Central  Single Family Residential    NaN   \n",
       "4            NaN       Central  Single Family Residential    NaN   \n",
       "\n",
       "   construction_type  \n",
       "0                NaN  \n",
       "1                NaN  \n",
       "2                NaN  \n",
       "3                NaN  \n",
       "4                NaN  \n",
       "\n",
       "[5 rows x 68 columns]"
      ]
     },
     "execution_count": 2,
     "metadata": {},
     "output_type": "execute_result"
    }
   ],
   "source": [
    "df = w.get_zillow_data()\n",
    "df.head()"
   ]
  },
  {
   "cell_type": "code",
   "execution_count": 4,
   "id": "c97e685e",
   "metadata": {},
   "outputs": [],
   "source": [
    "train, validate, test = w.split_data(df)"
   ]
  },
  {
   "cell_type": "code",
   "execution_count": 6,
   "id": "5ca43bc3",
   "metadata": {
    "scrolled": true
   },
   "outputs": [
    {
     "data": {
      "text/plain": [
       "<AxesSubplot:xlabel='log_error', ylabel='Count'>"
      ]
     },
     "execution_count": 6,
     "metadata": {},
     "output_type": "execute_result"
    },
    {
     "data": {
      "image/png": "[encoded data removed]",
      "text/plain": [
       "<Figure size 432x288 with 1 Axes>"
      ]
     },
     "metadata": {
      "needs_background": "light"
     },
     "output_type": "display_data"
    }
   ],
   "source": [
    "sns.histplot(train['log_error'])"
   ]
  },
  {
   "cell_type": "markdown",
   "id": "add63834",
   "metadata": {},
   "source": [
    "# Question 1: Is logerror significantly diffirent for properties in LA County vs Orange County vs Venture County?"
   ]
  },
  {
   "cell_type": "code",
   "execution_count": 5,
   "id": "d3a648ef",
   "metadata": {
    "scrolled": false
   },
   "outputs": [
    {
     "data": {
      "text/plain": [
       "<AxesSubplot:xlabel='fips', ylabel='log_error'>"
      ]
     },
     "execution_count": 5,
     "metadata": {},
     "output_type": "execute_result"
    },
    {
     "data": {
      "image/png": "[encoded data removed]",
      "text/plain": [
       "<Figure size 432x288 with 1 Axes>"
      ]
     },
     "metadata": {
      "needs_background": "light"
     },
     "output_type": "display_data"
    }
   ],
   "source": [
    "sns.barplot(x='fips',y='log_error', data = train)"
   ]
  },
  {
   "cell_type": "code",
   "execution_count": 7,
   "id": "588f9866",
   "metadata": {},
   "outputs": [
    {
     "data": {
      "text/plain": [
       "6037.0    18895\n",
       "6059.0     7904\n",
       "6111.0     2499\n",
       "Name: fips, dtype: int64"
      ]
     },
     "execution_count": 7,
     "metadata": {},
     "output_type": "execute_result"
    }
   ],
   "source": [
    "train.fips.value_counts()"
   ]
  },
  {
   "cell_type": "code",
   "execution_count": 14,
   "id": "275c52e9",
   "metadata": {},
   "outputs": [
    {
     "data": {
      "text/plain": [
       "(19.276877202747134, 4.301923318602041e-09)"
      ]
     },
     "execution_count": 14,
     "metadata": {},
     "output_type": "execute_result"
    }
   ],
   "source": [
    "stat, p_value = stats.levene(train[train.fips==6037.0].log_error, \n",
    "                             train[train.fips==6059.0].log_error,\n",
    "                             train[train.fips== 6111.0].log_error)\n",
    "stat, p_value"
   ]
  },
  {
   "cell_type": "markdown",
   "id": "4ef526ef",
   "metadata": {},
   "source": [
    "$H_0$: Log_error means are the same for all 3 counties\n",
    "\n",
    "$H_a$: Log_error means are not all equal for all 3 counties"
   ]
  },
  {
   "cell_type": "code",
   "execution_count": 15,
   "id": "146d46f4",
   "metadata": {},
   "outputs": [
    {
     "data": {
      "text/plain": [
       "(11.711290302540345, 8.239169872164534e-06)"
      ]
     },
     "execution_count": 15,
     "metadata": {},
     "output_type": "execute_result"
    }
   ],
   "source": [
    "f, p = stats.f_oneway(train[train.fips==6037.0].log_error, \n",
    "                             train[train.fips==6059.0].log_error,\n",
    "                             train[train.fips== 6111.0].log_error)\n",
    "f, p"
   ]
  },
  {
   "cell_type": "markdown",
   "id": "e2cc1bef",
   "metadata": {},
   "source": [
    "**We fail to reject the null hypothesis, therefore there is evidence to support that log_error mean for all 3 counties is not all equal.**"
   ]
  },
  {
   "cell_type": "markdown",
   "id": "70d4fff3",
   "metadata": {},
   "source": [
    "# Question 2: Is logerror significantly diffirent for properties with exactly 3 bedrooms, less than 3 bedrooms, more than 3 bedrooms...?"
   ]
  },
  {
   "cell_type": "code",
   "execution_count": 41,
   "id": "6cf03514",
   "metadata": {},
   "outputs": [
    {
     "data": {
      "text/plain": [
       "14.0        1\n",
       "10.0        2\n",
       "9.0         5\n",
       "8.0        14\n",
       "7.0        52\n",
       "0.0        69\n",
       "1.0       355\n",
       "6.0       382\n",
       "5.0      2208\n",
       "2.0      4658\n",
       "4.0      8578\n",
       "3.0     12974\n",
       "Name: bedroomcnt, dtype: int64"
      ]
     },
     "execution_count": 41,
     "metadata": {},
     "output_type": "execute_result"
    }
   ],
   "source": [
    "train.bedroomcnt.value_counts().sort_values()"
   ]
  },
  {
   "cell_type": "code",
   "execution_count": 24,
   "id": "ff64e192",
   "metadata": {
    "scrolled": false
   },
   "outputs": [
    {
     "data": {
      "text/html": [
       "<div>\n",
       "<style scoped>\n",
       "    .dataframe tbody tr th:only-of-type {\n",
       "        vertical-align: middle;\n",
       "    }\n",
       "\n",
       "    .dataframe tbody tr th {\n",
       "        vertical-align: top;\n",
       "    }\n",
       "\n",
       "    .dataframe thead th {\n",
       "        text-align: right;\n",
       "    }\n",
       "</style>\n",
       "<table border=\"1\" class=\"dataframe\">\n",
       "  <thead>\n",
       "    <tr style=\"text-align: right;\">\n",
       "      <th></th>\n",
       "      <th>id</th>\n",
       "      <th>parcelid</th>\n",
       "      <th>airconditioningtypeid</th>\n",
       "      <th>architecturalstyletypeid</th>\n",
       "      <th>basementsqft</th>\n",
       "      <th>bathroomcnt</th>\n",
       "      <th>bedroomcnt</th>\n",
       "      <th>buildingclasstypeid</th>\n",
       "      <th>buildingqualitytypeid</th>\n",
       "      <th>calculatedbathnbr</th>\n",
       "      <th>...</th>\n",
       "      <th>log_error</th>\n",
       "      <th>transaction_date</th>\n",
       "      <th>aircondition</th>\n",
       "      <th>architectural_style</th>\n",
       "      <th>bulding_class</th>\n",
       "      <th>heat_systems</th>\n",
       "      <th>land_use</th>\n",
       "      <th>story</th>\n",
       "      <th>construction_type</th>\n",
       "      <th>bed_bins</th>\n",
       "    </tr>\n",
       "  </thead>\n",
       "  <tbody>\n",
       "    <tr>\n",
       "      <th>32187</th>\n",
       "      <td>608625</td>\n",
       "      <td>14287348</td>\n",
       "      <td>5.0</td>\n",
       "      <td>NaN</td>\n",
       "      <td>NaN</td>\n",
       "      <td>2.0</td>\n",
       "      <td>3.0</td>\n",
       "      <td>NaN</td>\n",
       "      <td>NaN</td>\n",
       "      <td>2.0</td>\n",
       "      <td>...</td>\n",
       "      <td>-0.002954</td>\n",
       "      <td>2017-06-19</td>\n",
       "      <td>None</td>\n",
       "      <td>NaN</td>\n",
       "      <td>NaN</td>\n",
       "      <td>Forced air</td>\n",
       "      <td>Single Family Residential</td>\n",
       "      <td>NaN</td>\n",
       "      <td>NaN</td>\n",
       "      <td>beds_equal_3</td>\n",
       "    </tr>\n",
       "    <tr>\n",
       "      <th>9581</th>\n",
       "      <td>2918772</td>\n",
       "      <td>14051217</td>\n",
       "      <td>NaN</td>\n",
       "      <td>NaN</td>\n",
       "      <td>NaN</td>\n",
       "      <td>2.5</td>\n",
       "      <td>4.0</td>\n",
       "      <td>NaN</td>\n",
       "      <td>NaN</td>\n",
       "      <td>2.5</td>\n",
       "      <td>...</td>\n",
       "      <td>0.006747</td>\n",
       "      <td>2017-03-03</td>\n",
       "      <td>NaN</td>\n",
       "      <td>NaN</td>\n",
       "      <td>NaN</td>\n",
       "      <td>NaN</td>\n",
       "      <td>Single Family Residential</td>\n",
       "      <td>NaN</td>\n",
       "      <td>NaN</td>\n",
       "      <td>beds_morethan_3</td>\n",
       "    </tr>\n",
       "    <tr>\n",
       "      <th>5498</th>\n",
       "      <td>2421709</td>\n",
       "      <td>12048802</td>\n",
       "      <td>NaN</td>\n",
       "      <td>NaN</td>\n",
       "      <td>NaN</td>\n",
       "      <td>3.0</td>\n",
       "      <td>4.0</td>\n",
       "      <td>NaN</td>\n",
       "      <td>7.0</td>\n",
       "      <td>3.0</td>\n",
       "      <td>...</td>\n",
       "      <td>-0.000007</td>\n",
       "      <td>2017-02-07</td>\n",
       "      <td>NaN</td>\n",
       "      <td>NaN</td>\n",
       "      <td>NaN</td>\n",
       "      <td>Solar</td>\n",
       "      <td>Single Family Residential</td>\n",
       "      <td>NaN</td>\n",
       "      <td>NaN</td>\n",
       "      <td>beds_morethan_3</td>\n",
       "    </tr>\n",
       "    <tr>\n",
       "      <th>34024</th>\n",
       "      <td>1074511</td>\n",
       "      <td>17237439</td>\n",
       "      <td>NaN</td>\n",
       "      <td>NaN</td>\n",
       "      <td>NaN</td>\n",
       "      <td>2.0</td>\n",
       "      <td>3.0</td>\n",
       "      <td>NaN</td>\n",
       "      <td>NaN</td>\n",
       "      <td>2.0</td>\n",
       "      <td>...</td>\n",
       "      <td>0.104900</td>\n",
       "      <td>2017-06-26</td>\n",
       "      <td>NaN</td>\n",
       "      <td>NaN</td>\n",
       "      <td>NaN</td>\n",
       "      <td>NaN</td>\n",
       "      <td>Single Family Residential</td>\n",
       "      <td>NaN</td>\n",
       "      <td>NaN</td>\n",
       "      <td>beds_equal_3</td>\n",
       "    </tr>\n",
       "    <tr>\n",
       "      <th>34547</th>\n",
       "      <td>1592723</td>\n",
       "      <td>14207254</td>\n",
       "      <td>NaN</td>\n",
       "      <td>NaN</td>\n",
       "      <td>NaN</td>\n",
       "      <td>2.5</td>\n",
       "      <td>4.0</td>\n",
       "      <td>NaN</td>\n",
       "      <td>NaN</td>\n",
       "      <td>2.5</td>\n",
       "      <td>...</td>\n",
       "      <td>-0.012729</td>\n",
       "      <td>2017-06-28</td>\n",
       "      <td>NaN</td>\n",
       "      <td>NaN</td>\n",
       "      <td>NaN</td>\n",
       "      <td>NaN</td>\n",
       "      <td>Single Family Residential</td>\n",
       "      <td>NaN</td>\n",
       "      <td>NaN</td>\n",
       "      <td>beds_morethan_3</td>\n",
       "    </tr>\n",
       "  </tbody>\n",
       "</table>\n",
       "<p>5 rows × 69 columns</p>\n",
       "</div>"
      ],
      "text/plain": [
       "            id  parcelid  airconditioningtypeid  architecturalstyletypeid  \\\n",
       "32187   608625  14287348                    5.0                       NaN   \n",
       "9581   2918772  14051217                    NaN                       NaN   \n",
       "5498   2421709  12048802                    NaN                       NaN   \n",
       "34024  1074511  17237439                    NaN                       NaN   \n",
       "34547  1592723  14207254                    NaN                       NaN   \n",
       "\n",
       "       basementsqft  bathroomcnt  bedroomcnt  buildingclasstypeid  \\\n",
       "32187           NaN          2.0         3.0                  NaN   \n",
       "9581            NaN          2.5         4.0                  NaN   \n",
       "5498            NaN          3.0         4.0                  NaN   \n",
       "34024           NaN          2.0         3.0                  NaN   \n",
       "34547           NaN          2.5         4.0                  NaN   \n",
       "\n",
       "       buildingqualitytypeid  calculatedbathnbr  ...  log_error  \\\n",
       "32187                    NaN                2.0  ...  -0.002954   \n",
       "9581                     NaN                2.5  ...   0.006747   \n",
       "5498                     7.0                3.0  ...  -0.000007   \n",
       "34024                    NaN                2.0  ...   0.104900   \n",
       "34547                    NaN                2.5  ...  -0.012729   \n",
       "\n",
       "       transaction_date  aircondition  architectural_style  bulding_class  \\\n",
       "32187        2017-06-19          None                  NaN            NaN   \n",
       "9581         2017-03-03           NaN                  NaN            NaN   \n",
       "5498         2017-02-07           NaN                  NaN            NaN   \n",
       "34024        2017-06-26           NaN                  NaN            NaN   \n",
       "34547        2017-06-28           NaN                  NaN            NaN   \n",
       "\n",
       "       heat_systems                   land_use  story  construction_type  \\\n",
       "32187    Forced air  Single Family Residential    NaN                NaN   \n",
       "9581            NaN  Single Family Residential    NaN                NaN   \n",
       "5498          Solar  Single Family Residential    NaN                NaN   \n",
       "34024           NaN  Single Family Residential    NaN                NaN   \n",
       "34547           NaN  Single Family Residential    NaN                NaN   \n",
       "\n",
       "              bed_bins  \n",
       "32187     beds_equal_3  \n",
       "9581   beds_morethan_3  \n",
       "5498   beds_morethan_3  \n",
       "34024     beds_equal_3  \n",
       "34547  beds_morethan_3  \n",
       "\n",
       "[5 rows x 69 columns]"
      ]
     },
     "execution_count": 24,
     "metadata": {},
     "output_type": "execute_result"
    }
   ],
   "source": [
    "# create age bins bedrooms\n",
    "train['bed_bins'] = pd.cut(train.bedroomcnt, [0,2.99,3,4,5,6, 14],labels = ['beds_lessthan_3', 'beds_equal_3','beds_morethan_3'])\n",
    "    \n",
    "train.head()"
   ]
  },
  {
   "cell_type": "code",
   "execution_count": 27,
   "id": "ce034e07",
   "metadata": {
    "scrolled": true
   },
   "outputs": [
    {
     "data": {
      "text/plain": [
       "beds_equal_3       12974\n",
       "beds_morethan_3    11242\n",
       "beds_lessthan_3     5013\n",
       "Name: bed_bins, dtype: int64"
      ]
     },
     "execution_count": 27,
     "metadata": {},
     "output_type": "execute_result"
    }
   ],
   "source": [
    "train.bed_bins.value_counts()"
   ]
  },
  {
   "cell_type": "code",
   "execution_count": 25,
   "id": "fcdfb608",
   "metadata": {
    "scrolled": true
   },
   "outputs": [
    {
     "data": {
      "text/plain": [
       "<AxesSubplot:xlabel='bed_bins', ylabel='log_error'>"
      ]
     },
     "execution_count": 25,
     "metadata": {},
     "output_type": "execute_result"
    },
    {
     "data": {
      "image/png": "[encoded data removed]",
      "text/plain": [
       "<Figure size 432x288 with 1 Axes>"
      ]
     },
     "metadata": {
      "needs_background": "light"
     },
     "output_type": "display_data"
    }
   ],
   "source": [
    "sns.barplot(x='bed_bins',y='log_error', data = train)"
   ]
  },
  {
   "cell_type": "code",
   "execution_count": 28,
   "id": "b3bcb69c",
   "metadata": {},
   "outputs": [
    {
     "data": {
      "text/plain": [
       "(48.15199857544883, 1.3250477693478781e-21)"
      ]
     },
     "execution_count": 28,
     "metadata": {},
     "output_type": "execute_result"
    }
   ],
   "source": [
    "stat, p_value = stats.levene(train[train.bed_bins=='beds_equal_3'].log_error, \n",
    "                             train[train.bed_bins=='beds_morethan_3'].log_error,\n",
    "                             train[train.bed_bins== 'beds_lessthan_3' ].log_error)\n",
    "stat, p_value"
   ]
  },
  {
   "cell_type": "markdown",
   "id": "032e66e9",
   "metadata": {},
   "source": [
    "$H_0$: Log_error means are the same for all 3 bed types\n",
    "\n",
    "$H_a$: Log_error means are not all equal for all 3 bed types"
   ]
  },
  {
   "cell_type": "code",
   "execution_count": 30,
   "id": "37d07b69",
   "metadata": {},
   "outputs": [
    {
     "data": {
      "text/plain": [
       "(17.57972407456051, 2.343211845364437e-08)"
      ]
     },
     "execution_count": 30,
     "metadata": {},
     "output_type": "execute_result"
    }
   ],
   "source": [
    "f, p = stats.f_oneway(train[train.bed_bins=='beds_equal_3'].log_error, \n",
    "                      train[train.bed_bins=='beds_morethan_3'].log_error,\n",
    "                      train[train.bed_bins== 'beds_lessthan_3' ].log_error)\n",
    "f, p"
   ]
  },
  {
   "cell_type": "markdown",
   "id": "b0abd823",
   "metadata": {},
   "source": [
    "**We fail to reject the null hypothesis, therefore there is evidence to support that log_error mean for all 3 bed types is not all equal.**"
   ]
  },
  {
   "cell_type": "markdown",
   "id": "ec0a8a0d",
   "metadata": {},
   "source": [
    "# Question 3: Is logerror significantly diffirent for properties with exactly 2 bathrooms, less than 2 bathrooms, more than 2 bathrooms...?"
   ]
  },
  {
   "cell_type": "code",
   "execution_count": 39,
   "id": "ab2b1f55",
   "metadata": {
    "scrolled": false
   },
   "outputs": [
    {
     "data": {
      "text/plain": [
       "18.0        1\n",
       "11.0        2\n",
       "8.5         2\n",
       "10.0        4\n",
       "9.0         7\n",
       "7.5        10\n",
       "6.5        26\n",
       "8.0        27\n",
       "7.0        46\n",
       "0.0        63\n",
       "5.5       120\n",
       "6.0       189\n",
       "4.5       374\n",
       "5.0       452\n",
       "1.5       501\n",
       "3.5       517\n",
       "4.0      1163\n",
       "2.5      2220\n",
       "1.0      5337\n",
       "3.0      5985\n",
       "2.0     12252\n",
       "Name: bathroomcnt, dtype: int64"
      ]
     },
     "execution_count": 39,
     "metadata": {},
     "output_type": "execute_result"
    }
   ],
   "source": [
    "train.bathroomcnt.value_counts().sort_values()"
   ]
  },
  {
   "cell_type": "code",
   "execution_count": 33,
   "id": "f8cba28a",
   "metadata": {},
   "outputs": [
    {
     "data": {
      "text/plain": [
       "2.0"
      ]
     },
     "execution_count": 33,
     "metadata": {},
     "output_type": "execute_result"
    }
   ],
   "source": [
    "train.bathroomcnt.median()"
   ]
  },
  {
   "cell_type": "code",
   "execution_count": 67,
   "id": "9e4ef21b",
   "metadata": {
    "scrolled": false
   },
   "outputs": [
    {
     "data": {
      "text/html": [
       "<div>\n",
       "<style scoped>\n",
       "    .dataframe tbody tr th:only-of-type {\n",
       "        vertical-align: middle;\n",
       "    }\n",
       "\n",
       "    .dataframe tbody tr th {\n",
       "        vertical-align: top;\n",
       "    }\n",
       "\n",
       "    .dataframe thead th {\n",
       "        text-align: right;\n",
       "    }\n",
       "</style>\n",
       "<table border=\"1\" class=\"dataframe\">\n",
       "  <thead>\n",
       "    <tr style=\"text-align: right;\">\n",
       "      <th></th>\n",
       "      <th>bathroomcnt</th>\n",
       "      <th>bath_bins</th>\n",
       "    </tr>\n",
       "  </thead>\n",
       "  <tbody>\n",
       "    <tr>\n",
       "      <th>32187</th>\n",
       "      <td>2.0</td>\n",
       "      <td>baths_equal_2</td>\n",
       "    </tr>\n",
       "    <tr>\n",
       "      <th>9581</th>\n",
       "      <td>2.5</td>\n",
       "      <td>baths2_to_3</td>\n",
       "    </tr>\n",
       "    <tr>\n",
       "      <th>34024</th>\n",
       "      <td>2.0</td>\n",
       "      <td>baths_equal_2</td>\n",
       "    </tr>\n",
       "    <tr>\n",
       "      <th>34547</th>\n",
       "      <td>2.5</td>\n",
       "      <td>baths2_to_3</td>\n",
       "    </tr>\n",
       "    <tr>\n",
       "      <th>7058</th>\n",
       "      <td>2.0</td>\n",
       "      <td>baths_equal_2</td>\n",
       "    </tr>\n",
       "    <tr>\n",
       "      <th>...</th>\n",
       "      <td>...</td>\n",
       "      <td>...</td>\n",
       "    </tr>\n",
       "    <tr>\n",
       "      <th>23668</th>\n",
       "      <td>2.0</td>\n",
       "      <td>baths_equal_2</td>\n",
       "    </tr>\n",
       "    <tr>\n",
       "      <th>41674</th>\n",
       "      <td>2.0</td>\n",
       "      <td>baths_equal_2</td>\n",
       "    </tr>\n",
       "    <tr>\n",
       "      <th>42471</th>\n",
       "      <td>2.5</td>\n",
       "      <td>baths2_to_3</td>\n",
       "    </tr>\n",
       "    <tr>\n",
       "      <th>49174</th>\n",
       "      <td>2.0</td>\n",
       "      <td>baths_equal_2</td>\n",
       "    </tr>\n",
       "    <tr>\n",
       "      <th>39201</th>\n",
       "      <td>2.5</td>\n",
       "      <td>baths2_to_3</td>\n",
       "    </tr>\n",
       "  </tbody>\n",
       "</table>\n",
       "<p>20373 rows × 2 columns</p>\n",
       "</div>"
      ],
      "text/plain": [
       "       bathroomcnt      bath_bins\n",
       "32187          2.0  baths_equal_2\n",
       "9581           2.5    baths2_to_3\n",
       "34024          2.0  baths_equal_2\n",
       "34547          2.5    baths2_to_3\n",
       "7058           2.0  baths_equal_2\n",
       "...            ...            ...\n",
       "23668          2.0  baths_equal_2\n",
       "41674          2.0  baths_equal_2\n",
       "42471          2.5    baths2_to_3\n",
       "49174          2.0  baths_equal_2\n",
       "39201          2.5    baths2_to_3\n",
       "\n",
       "[20373 rows x 2 columns]"
      ]
     },
     "execution_count": 67,
     "metadata": {},
     "output_type": "execute_result"
    }
   ],
   "source": [
    "# create age bins bathrooms\n",
    "train['bath_bins'] = pd.cut(train.bathroomcnt, [0,1.99,2,3,4,18],labels = ['baths_lessthan_2', 'baths_equal_2','baths2_to_3','baths3_to_4','baths_morethan_4'])\n",
    "    \n",
    "train[['bathroomcnt','bath_bins']][train.bathroomcnt < 3]"
   ]
  },
  {
   "cell_type": "code",
   "execution_count": 45,
   "id": "41d47d2f",
   "metadata": {
    "scrolled": true
   },
   "outputs": [
    {
     "data": {
      "text/plain": [
       "baths2_to_3         12974\n",
       "baths3_to_4          8578\n",
       "baths_equal_2        4658\n",
       "baths_morethan_4     2664\n",
       "baths_lessthan_2      355\n",
       "Name: bath_bins, dtype: int64"
      ]
     },
     "execution_count": 45,
     "metadata": {},
     "output_type": "execute_result"
    }
   ],
   "source": [
    "train.bath_bins.value_counts()"
   ]
  },
  {
   "cell_type": "code",
   "execution_count": 71,
   "id": "c45efeed",
   "metadata": {
    "scrolled": false
   },
   "outputs": [
    {
     "data": {
      "text/plain": [
       "<AxesSubplot:xlabel='log_error', ylabel='bath_bins'>"
      ]
     },
     "execution_count": 71,
     "metadata": {},
     "output_type": "execute_result"
    },
    {
     "data": {
      "image/png": "[encoded data removed]",
      "text/plain": [
       "<Figure size 432x288 with 1 Axes>"
      ]
     },
     "metadata": {
      "needs_background": "light"
     },
     "output_type": "display_data"
    }
   ],
   "source": [
    "sns.barplot(x='log_error',y='bath_bins', data =train)"
   ]
  },
  {
   "cell_type": "code",
   "execution_count": 72,
   "id": "0825d1ab",
   "metadata": {},
   "outputs": [
    {
     "data": {
      "text/plain": [
       "baths_equal_2       12252\n",
       "baths2_to_3          8205\n",
       "baths_lessthan_2     5838\n",
       "baths3_to_4          1680\n",
       "baths_morethan_4     1260\n",
       "Name: bath_bins, dtype: int64"
      ]
     },
     "execution_count": 72,
     "metadata": {},
     "output_type": "execute_result"
    }
   ],
   "source": [
    "train.bath_bins.value_counts()"
   ]
  },
  {
   "cell_type": "code",
   "execution_count": 74,
   "id": "4b668037",
   "metadata": {},
   "outputs": [
    {
     "data": {
      "text/plain": [
       "(50.09368398045566, 4.3634021628557404e-42)"
      ]
     },
     "execution_count": 74,
     "metadata": {},
     "output_type": "execute_result"
    }
   ],
   "source": [
    "stat, p_value = stats.levene(train[train.bath_bins=='baths_equal_2'].log_error, \n",
    "                             train[train.bath_bins=='baths2_to_3'].log_error,\n",
    "                             train[train.bath_bins== 'baths_lessthan_2' ].log_error,\n",
    "                             train[train.bath_bins== 'baths3_to_4' ].log_error,\n",
    "                            train[train.bath_bins== 'baths_morethan_4' ].log_error)\n",
    "stat, p_value"
   ]
  },
  {
   "cell_type": "markdown",
   "id": "798f4965",
   "metadata": {},
   "source": [
    "$H_0$: Log_error means are the same for all bath types\n",
    "\n",
    "$H_a$: Log_error means are not all equal for all bath types"
   ]
  },
  {
   "cell_type": "code",
   "execution_count": 75,
   "id": "83fb367e",
   "metadata": {},
   "outputs": [
    {
     "data": {
      "text/plain": [
       "(16.225663834611154, 2.790422071061611e-13)"
      ]
     },
     "execution_count": 75,
     "metadata": {},
     "output_type": "execute_result"
    }
   ],
   "source": [
    "f, p = stats.f_oneway(train[train.bath_bins=='baths_equal_2'].log_error, \n",
    "                             train[train.bath_bins=='baths2_to_3'].log_error,\n",
    "                             train[train.bath_bins== 'baths_lessthan_2' ].log_error,\n",
    "                             train[train.bath_bins== 'baths3_to_4' ].log_error,\n",
    "                            train[train.bath_bins== 'baths_morethan_4' ].log_error)\n",
    "f, p"
   ]
  },
  {
   "cell_type": "markdown",
   "id": "33394581",
   "metadata": {},
   "source": [
    "**We faill to reject the null hypothesis. Therefore there is enough evidence to suggest that the means of all bath types are not equal.**"
   ]
  },
  {
   "cell_type": "markdown",
   "id": "7afab3f8",
   "metadata": {},
   "source": [
    "# Quesion 4: Is logerror significanly diffirent for properties above the average squarefootage vs average sqft and below?"
   ]
  },
  {
   "cell_type": "code",
   "execution_count": null,
   "id": "5b3c6ba5",
   "metadata": {},
   "outputs": [],
   "source": []
  },
  {
   "cell_type": "code",
   "execution_count": null,
   "id": "d3283b34",
   "metadata": {},
   "outputs": [],
   "source": []
  },
  {
   "cell_type": "code",
   "execution_count": null,
   "id": "03da0279",
   "metadata": {},
   "outputs": [],
   "source": []
  },
  {
   "cell_type": "markdown",
   "id": "ee995569",
   "metadata": {},
   "source": [
    "# Question 5: What variables have the correlation with logerror?"
   ]
  }
 ],
 "metadata": {
  "kernelspec": {
   "display_name": "Python 3 (ipykernel)",
   "language": "python",
   "name": "python3"
  },
  "language_info": {
   "codemirror_mode": {
    "name": "ipython",
    "version": 3
   },
   "file_extension": ".py",
   "mimetype": "text/x-python",
   "name": "python",
   "nbconvert_exporter": "python",
   "pygments_lexer": "ipython3",
   "version": "3.9.12"
  }
 },
 "nbformat": 4,
 "nbformat_minor": 5
}
